{
 "cells": [
  {
   "cell_type": "markdown",
   "metadata": {},
   "source": [
    "Первый урок блока посвящён основам Python, знание которых сделает вашу дальнейшую работу с данными гораздо более приятной. Базовые навыки питона нам понадобятся, чтобы далее мастерски освоить анализ данных в библиотеке pandas! \n",
    "\n",
    "Это занятие будет в каком-то смысле самым сложным, если вы только начинаете программировать.\n",
    "\n",
    "В блоке есть ряд сложных задач, над которыми нужно относительно долго подумать — они помечены как \"💀 Сложное задание! 💀\".\n",
    "Также есть задачи, которые проходить необязательно — они помечены как \"⭐️Задание со звёздочкой!⭐️\"."
   ]
  },
  {
   "cell_type": "markdown",
   "metadata": {},
   "source": [
    "#### 1. Поместите в переменную first первый (т.е. нулевой) элемент из списка salaries.\n",
    "\n",
    "Сам список создавать не нужно, он уже находится в переменной salaries. Пример данных, которые могут в нем быть:\n",
    "\n",
    "[42, 100, 70, 80]"
   ]
  },
  {
   "cell_type": "markdown",
   "metadata": {},
   "source": [
    "Импортируем необходимые библиотеки для работы"
   ]
  },
  {
   "cell_type": "code",
   "execution_count": 2,
   "metadata": {},
   "outputs": [],
   "source": [
    "import pandas as pd"
   ]
  },
  {
   "cell_type": "markdown",
   "metadata": {},
   "source": [
    "Запишем данные в переменную salaries"
   ]
  },
  {
   "cell_type": "code",
   "execution_count": null,
   "metadata": {},
   "outputs": [],
   "source": [
    "salaries = [42, 100, 70, 80]"
   ]
  },
  {
   "cell_type": "markdown",
   "metadata": {},
   "source": [
    "Запишем в переменную first первый элемент"
   ]
  },
  {
   "cell_type": "code",
   "execution_count": null,
   "metadata": {},
   "outputs": [],
   "source": [
    "first = salaries[0]"
   ]
  },
  {
   "cell_type": "markdown",
   "metadata": {},
   "source": [
    "#### 2. Добавьте в уже созданный список users элементы 'Voronov' и 42.\n",
    "\n",
    "Сам список создавать не нужно, он уже находится в переменной users."
   ]
  },
  {
   "cell_type": "markdown",
   "metadata": {},
   "source": [
    "Создаём пустой список users"
   ]
  },
  {
   "cell_type": "code",
   "execution_count": null,
   "metadata": {},
   "outputs": [],
   "source": [
    "users = []"
   ]
  },
  {
   "cell_type": "markdown",
   "metadata": {},
   "source": [
    "Добавляем новые элементы в список users"
   ]
  },
  {
   "cell_type": "code",
   "execution_count": null,
   "metadata": {},
   "outputs": [],
   "source": [
    "users.append ('Voronov')\n",
    "users.append(42)"
   ]
  },
  {
   "cell_type": "markdown",
   "metadata": {},
   "source": [
    "#### 3. В переменной user_ages содержится список возрастов клиентов. Напишите цикл, выводящий на печать элементы больше 18.\n",
    "\n",
    "Сам список создавать не нужно, он уже находится в переменной user_ages. Пример данных, которые могут быть в user_ages:\n",
    "\n",
    "user_ages = [10, 18, 21, 35, 42, 27, 12, 16]\n",
    "\n",
    "Note: в этом задании эти числа нужно печатать (используйте функцию print)."
   ]
  },
  {
   "cell_type": "markdown",
   "metadata": {},
   "source": [
    "Запишем данные в переменную"
   ]
  },
  {
   "cell_type": "code",
   "execution_count": null,
   "metadata": {},
   "outputs": [],
   "source": [
    "user_ages = [10, 18, 21, 35, 42, 27, 12, 16]"
   ]
  },
  {
   "cell_type": "markdown",
   "metadata": {},
   "source": [
    "Напишем цикл, который будет выводить на печать все числа больше 18"
   ]
  },
  {
   "cell_type": "code",
   "execution_count": null,
   "metadata": {},
   "outputs": [],
   "source": [
    "for age in user_ages:\n",
    "    if age > 18:\n",
    "        print(age)"
   ]
  },
  {
   "cell_type": "markdown",
   "metadata": {},
   "source": [
    "#### 4. Напишите программу, проверяющую стаж работы сотрудника. В переменной worker уже содержится список, содержащий значения как во 2-м задании (имя, фамилия, зарплата, стаж). Поместите в переменную status следующую строку:\n",
    "\n",
    "#### user_name user_family is position\n",
    "\n",
    "где user_name и user_family — имя и фамилия сотрудника, а position — одно из следующих значений:\n",
    "\n",
    "'junior' — стаж меньше 2 лет\n",
    "'middle' — стаж больше либо равен 2 лет и меньше или равен 5\n",
    "'senior' — стаж больше 5 лет \n",
    "Пример данных, которые могут быть в worker:\n",
    "\n",
    "worker = ['Olya', 'Silyutina', 350000, 3]\n",
    "\n",
    "Hint: печатать результат не нужно, просто запишите его в переменную status."
   ]
  },
  {
   "cell_type": "markdown",
   "metadata": {},
   "source": [
    "Скопируем/зададим переменную"
   ]
  },
  {
   "cell_type": "code",
   "execution_count": null,
   "metadata": {},
   "outputs": [],
   "source": [
    "worker = ['Olya', 'Silyutina', 350000, 3]"
   ]
  },
  {
   "cell_type": "markdown",
   "metadata": {},
   "source": [
    "Зададим новые переменные, взяв нужные элементы из списка"
   ]
  },
  {
   "cell_type": "code",
   "execution_count": null,
   "metadata": {},
   "outputs": [],
   "source": [
    "user_name = worker[0]\n",
    "user_family = worker[1]\n",
    "experence = worker[-1]"
   ]
  },
  {
   "cell_type": "markdown",
   "metadata": {},
   "source": [
    "Пропишем условие для переменной position"
   ]
  },
  {
   "cell_type": "code",
   "execution_count": null,
   "metadata": {},
   "outputs": [],
   "source": [
    "if experence < 2:\n",
    "    position = 'junior'\n",
    "elif   2 <=worker[-1] <=5:\n",
    "    position = 'middle'\n",
    "else:\n",
    "    position = 'senior'"
   ]
  },
  {
   "cell_type": "markdown",
   "metadata": {},
   "source": [
    "В переменную status запишем выражение в которое будут подставляться необходимые переменные"
   ]
  },
  {
   "cell_type": "code",
   "execution_count": null,
   "metadata": {},
   "outputs": [],
   "source": [
    "status = f'{user_name} {user_family} is {position}'"
   ]
  },
  {
   "cell_type": "markdown",
   "metadata": {},
   "source": [
    "#### 5. В списке values содержатся числовые значения. Создайте список tens и добавьте в него все числа из values, которые делятся на 10 нацело.\n",
    "\n",
    "Сам список создавать не нужно, он уже находится в переменной values. Пример данных, которые могут быть в values:\n",
    "\n",
    "values = [12, 134, 10, 47, 100, 20, 50, 160, 210]"
   ]
  },
  {
   "cell_type": "markdown",
   "metadata": {},
   "source": [
    "Зададим переменную values"
   ]
  },
  {
   "cell_type": "code",
   "execution_count": null,
   "metadata": {},
   "outputs": [],
   "source": [
    "values = [12, 134, 10, 47, 100, 20, 50, 160, 210]"
   ]
  },
  {
   "cell_type": "markdown",
   "metadata": {},
   "source": [
    "Создадим список tens"
   ]
  },
  {
   "cell_type": "code",
   "execution_count": null,
   "metadata": {},
   "outputs": [],
   "source": [
    "tens=[]"
   ]
  },
  {
   "cell_type": "markdown",
   "metadata": {},
   "source": [
    "Напишем условие: если значение без остатка делится на ноль (True), то это значение мы записываем в ранее созданный список tens"
   ]
  },
  {
   "cell_type": "code",
   "execution_count": null,
   "metadata": {},
   "outputs": [],
   "source": [
    "for number in values:\n",
    "    if number %10 ==0:\n",
    "        tens.append(number)"
   ]
  },
  {
   "cell_type": "markdown",
   "metadata": {},
   "source": [
    "⭐️ Задание со звёздочкой! ⭐️\n",
    "\n",
    "#### 6. Реализуйте цикл, который пробегается по уже созданному списку workers со значениями как в 2-м и 6-м заданиях и выводит для каждого сотрудника следующую строку (то есть печатает её для каждого элемента списка):\n",
    "\n",
    "#### user_name user_family is position\n",
    "\n",
    "где user_name и user_family — имя и фамилия сотрудника, а position — одна из следующих строк:\n",
    "\n",
    "'junior' — стаж меньше 2 лет\n",
    "'middle' — стаж больше либо равен 2 и меньше или равен 5\n",
    "'senior' — стаж строго больше 5 лет \n",
    "Сам список создавать не нужно, он уже находится в переменной workers. Пример данных, которые могут быть в workers:\n",
    "\n",
    "workers = [['Ivan', 'Ivanov', 100000, 2], ['Petr', 'Petrov', 150000, 2], ['Sidor', 'Sidorov', 200000, 3]]\n",
    "\n",
    "Note: в этом задании эти строки нужно печатать (используйте функцию print)."
   ]
  },
  {
   "cell_type": "markdown",
   "metadata": {},
   "source": [
    "Зададим новую переменную"
   ]
  },
  {
   "cell_type": "code",
   "execution_count": null,
   "metadata": {},
   "outputs": [],
   "source": [
    "workers = [['Ivan', 'Ivanov', 100000, 2], ['Petr', 'Petrov', 150000, 2], ['Sidor', 'Sidorov', 200000, 3]]"
   ]
  },
  {
   "cell_type": "markdown",
   "metadata": {},
   "source": [
    "Возьмём наработки с предыдущего задания\n",
    "\n",
    "Добавим цикл, чтобы выводилась информация о всех работниках\n",
    "\n",
    "Напечатаем результат"
   ]
  },
  {
   "cell_type": "code",
   "execution_count": null,
   "metadata": {},
   "outputs": [],
   "source": [
    "for worker in workers:\n",
    "    user_name = worker[0]\n",
    "    user_family = worker[1]\n",
    "    experence = worker[-1]\n",
    "    \n",
    "    if experence < 2:\n",
    "        position = 'junior'\n",
    "    elif   2 <=worker[-1] <=5:\n",
    "        position = 'middle'\n",
    "    else:\n",
    "        position = 'senior'\n",
    "        \n",
    "    status = f'{user_name} {user_family} is {position}'\n",
    "    \n",
    "    print(status)"
   ]
  },
  {
   "cell_type": "markdown",
   "metadata": {},
   "source": [
    "⭐️ Задание со звёздочкой! ⭐️\n",
    "\n",
    "#### 7. Поместите в список lst числа от 0 (n = 0) до 10 включительно (N = 10) c шагом 2 (dn = 2). Для этого используйте условие while.\n",
    "\n",
    "Note: необходимо создать переменную lst, а переменные n, N, dn создавать не нужно. Итоговый список печатать тоже не нужно."
   ]
  },
  {
   "cell_type": "code",
   "execution_count": 4,
   "metadata": {},
   "outputs": [],
   "source": [
    "# создадим пустой список lst\n",
    "lst = []  \n",
    "# зададим переменную\n",
    "n=0\n",
    "# напишем цикл с шагом 2\n",
    "while n<=10:\n",
    "    lst.append(n)\n",
    "    n+=2"
   ]
  },
  {
   "cell_type": "markdown",
   "metadata": {},
   "source": [
    "#### 8. На предыдущих шагах вы сталкивались с различными характеристиками пользователей, которые были сохранены в списках. Теперь попробуем собрать нужную информацию в словарь!\n",
    "\n",
    "Начнем с небольшого, где:\n",
    "\n",
    "ключом будет название характеристики\n",
    "значением – её значение\n",
    "В словарь поместите следующую информацию:\n",
    "\n",
    "характеристика\tзначение\n",
    "name\tMasha\n",
    "surname\tVolkova\n",
    "age\t25\n",
    "salary\t60000\n",
    "position\tjunior\n",
    "Результат сохраните в переменную salaries_dict."
   ]
  },
  {
   "cell_type": "markdown",
   "metadata": {},
   "source": [
    "Зададим список с необходимыми ключами и значениями"
   ]
  },
  {
   "cell_type": "code",
   "execution_count": 13,
   "metadata": {},
   "outputs": [],
   "source": [
    "salaries_dict = {'name':'Masha', 'surname':'Volkova','age':25, 'salary': 60000, 'position': 'junior'}"
   ]
  },
  {
   "cell_type": "code",
   "execution_count": 14,
   "metadata": {},
   "outputs": [
    {
     "data": {
      "text/plain": [
       "{'name': 'Masha',\n",
       " 'surname': 'Volkova',\n",
       " 'age': 25,\n",
       " 'salary': 60000,\n",
       " 'position': 'junior'}"
      ]
     },
     "execution_count": 14,
     "metadata": {},
     "output_type": "execute_result"
    }
   ],
   "source": [
    "salaries_dict"
   ]
  },
  {
   "cell_type": "markdown",
   "metadata": {},
   "source": [
    "#### 9. Теперь усложним задачу. Создайте словарь, где:\n",
    "\n",
    "Ключом будет логин пользователя (login)\n",
    "В качестве значения – словарь с характеристиками (как на предыдущем шаге) для этого пользователя\n",
    "login\tname\tsurname\tage\tsalary\tposition\n",
    "mvolkova\tMasha\tVolkova\t25\t60000\tjunior\n",
    "pvoronov\tPeter\tVoronov\t27\t100000\tjunior\n",
    "pparker\tPeter\tParker\t35\t150000\tmiddle\n",
    "akarpov\tAnatoly\tKarpov\t30\t250000\tsenior\n",
    "Таким образом, по ключу мы сможем получить всю информацию о нужном пользователе. Обратиться к такому элементу можно, например, с помощью: users_dict['mvolkova']['name'], где в первых скобках указывается логин (первый ключ), а во вторых – название характеристики, значение которой мы хотим получить.\n",
    "\n",
    "Пример итоговой структуры:\n",
    "\n",
    "{\n",
    "'masha_volkova' : {'name' : 'Masha', ...},\n",
    "'peter_voronov' : {'name' : 'Peter', ...}, \n",
    "...\n",
    "}\n",
    "\n",
    "Результат запишите в переменную users_dict."
   ]
  },
  {
   "cell_type": "markdown",
   "metadata": {},
   "source": [
    "Запишем данные в список"
   ]
  },
  {
   "cell_type": "code",
   "execution_count": 16,
   "metadata": {},
   "outputs": [],
   "source": [
    "users_dict = {'mvolkova': {'name': 'Masha', 'surname': 'Volkova', 'age':25, 'salary': 60000, 'position':'junior'},\n",
    "            'pvoronov': {'name': 'Peter', 'surname': 'Voronov', 'age':27, 'salary': 100000, 'position':'junior'},\n",
    "            'pparker': {'name': 'Peter', 'surname': 'Parker', 'age':35, 'salary': 150000, 'position':'middle'},\n",
    "            'akarpov': {'name': 'Anatoly', 'surname': 'Karpov', 'age':30, 'salary': 250000, 'position':'senior'}}\n",
    "             "
   ]
  }
 ],
 "metadata": {
  "kernelspec": {
   "display_name": "Python 3",
   "language": "python",
   "name": "python3"
  },
  "language_info": {
   "codemirror_mode": {
    "name": "ipython",
    "version": 3
   },
   "file_extension": ".py",
   "mimetype": "text/x-python",
   "name": "python",
   "nbconvert_exporter": "python",
   "pygments_lexer": "ipython3",
   "version": "3.7.3"
  }
 },
 "nbformat": 4,
 "nbformat_minor": 4
}
